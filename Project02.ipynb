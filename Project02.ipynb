{
  "nbformat": 4,
  "nbformat_minor": 0,
  "metadata": {
    "colab": {
      "provenance": []
    },
    "kernelspec": {
      "name": "python3",
      "display_name": "Python 3"
    },
    "language_info": {
      "name": "python"
    }
  },
  "cells": [
    {
      "cell_type": "markdown",
      "source": [
        "## Global Cuisine Calorie Analysis"
      ],
      "metadata": {
        "id": "nqd_mvUmicVS"
      }
    },
    {
      "cell_type": "markdown",
      "source": [
        "Importing Packages"
      ],
      "metadata": {
        "id": "dDo2s8nVjGAR"
      }
    },
    {
      "cell_type": "code",
      "source": [
        "import numpy as np\n",
        "import pandas as pd\n",
        "import matplotlib.pyplot as plt\n",
        "import seaborn as sns"
      ],
      "metadata": {
        "id": "XVhbcae1jKAB"
      },
      "execution_count": 1,
      "outputs": []
    },
    {
      "cell_type": "markdown",
      "source": [
        "Reading the file"
      ],
      "metadata": {
        "id": "iAf_aXqMj8VQ"
      }
    },
    {
      "cell_type": "code",
      "source": [
        "df = pd.read_csv('cleaned_food_data.csv')"
      ],
      "metadata": {
        "id": "AJbdtFB7j_YR"
      },
      "execution_count": 2,
      "outputs": []
    },
    {
      "cell_type": "markdown",
      "source": [
        "Checking if the file is loaded"
      ],
      "metadata": {
        "id": "aQrWWHMYkOkR"
      }
    },
    {
      "cell_type": "code",
      "source": [
        "print(df.head()) # prints only few rows of the file"
      ],
      "metadata": {
        "collapsed": true,
        "id": "nzZ3k_9kkS5d"
      },
      "execution_count": null,
      "outputs": []
    },
    {
      "cell_type": "markdown",
      "source": [
        "Group data ['country/region']"
      ],
      "metadata": {
        "id": "_8xlaBWzkvIn"
      }
    },
    {
      "cell_type": "code",
      "source": [
        "group_by_country_region = df.groupby('Country/Region')\n",
        "\n",
        "for name, group in group_by_country_region:\n",
        "  print(f\"Country/Region: {name}\")\n",
        "  print(group)\n",
        "  print(\"-\" * 50)"
      ],
      "metadata": {
        "collapsed": true,
        "id": "QpNAsqBYlN4l"
      },
      "execution_count": null,
      "outputs": []
    },
    {
      "cell_type": "code",
      "source": [
        "group_by_country_region = df.groupby('Country/Region')['Calories']\n",
        "\n",
        "for name, group in group_by_country_region:\n",
        "  print(f\"Country/Region: {name}\")\n",
        "  print(group.values)\n",
        "  print(\"-\" * 40)"
      ],
      "metadata": {
        "collapsed": true,
        "id": "drk6mNkqoxRz"
      },
      "execution_count": null,
      "outputs": []
    },
    {
      "cell_type": "code",
      "source": [
        "group_by_country_region = df.groupby('Country/Region')['Calories']\n",
        "\n",
        "print(group_by_country_region.mean())"
      ],
      "metadata": {
        "collapsed": true,
        "id": "ZSU4cS2epLhu"
      },
      "execution_count": null,
      "outputs": []
    },
    {
      "cell_type": "code",
      "source": [
        "average_calories_by_country_region = df.groupby('Country/Region')['Calories'].mean()\n",
        "\n",
        "print(average_calories_by_country_region)"
      ],
      "metadata": {
        "collapsed": true,
        "id": "WsVX4fwIplIa"
      },
      "execution_count": null,
      "outputs": []
    },
    {
      "cell_type": "code",
      "source": [
        "average_calories_by_country_region = df.groupby('Country/Region')['Calories'].mean()\n",
        "\n",
        "# Sorted Average Calories Data\n",
        "sorted_average_calories = average_calories_by_country_region.sort_values(ascending=True)\n",
        "sorted_average_calories"
      ],
      "metadata": {
        "id": "Tx6P0BzPqA4S"
      },
      "execution_count": null,
      "outputs": []
    },
    {
      "cell_type": "code",
      "source": [
        "# Top 10 Countries\n",
        "top_10_countries = sorted_average_calories.head(10)\n",
        "top_10_countries"
      ],
      "metadata": {
        "id": "xXxzDzlHz-nD"
      },
      "execution_count": null,
      "outputs": []
    },
    {
      "cell_type": "code",
      "source": [
        "plt.figure(figsize=(15, 7))\n",
        "sns.barplot(x = top_10_countries.index, y = top_10_countries.values, palette='rocket')\n",
        "plt.title('Top 10 Countries by average food calories')\n",
        "plt.xlabel(\"Country/Region\")\n",
        "plt.ylabel(\"Average Calories\")\n",
        "plt.show()"
      ],
      "metadata": {
        "id": "01ynncvkysDs"
      },
      "execution_count": null,
      "outputs": []
    }
  ]
}